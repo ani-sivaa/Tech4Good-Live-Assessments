{
 "cells": [
  {
   "cell_type": "markdown",
   "id": "ede343bf",
   "metadata": {},
   "source": [
    "#this is a placeholder google colab file so the google colab folder shows up on the repo lol\n"
   ]
  }
 ],
 "metadata": {
  "language_info": {
   "name": "python"
  }
 },
 "nbformat": 4,
 "nbformat_minor": 5
}
